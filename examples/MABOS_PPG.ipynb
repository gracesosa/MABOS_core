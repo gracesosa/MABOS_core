{
 "cells": [
  {
   "cell_type": "code",
   "execution_count": 1,
   "id": "4866afbb",
   "metadata": {},
   "outputs": [],
   "source": [
    "from MABOS_core import SensorManager\n",
    "from MABOS_core import plot_manager as pm\n",
    "from MABOS_core import strg_manager\n",
    "from MABOS_core import ser_manager\n",
    "from functools import partial"
   ]
  },
  {
   "cell_type": "code",
   "execution_count": 2,
   "id": "1a1340c0-312f-4edf-9061-c8f773edac21",
   "metadata": {},
   "outputs": [
    {
     "data": {
      "text/plain": [
       "['/dev/ttyACM0']"
      ]
     },
     "execution_count": 2,
     "metadata": {},
     "output_type": "execute_result"
    }
   ],
   "source": [
    "# Find available serial ports\n",
    "ser_manager.find_serial()"
   ]
  },
  {
   "cell_type": "code",
   "execution_count": 3,
   "id": "b99d60b5-a772-41d6-a086-cc9b8ade01ab",
   "metadata": {},
   "outputs": [],
   "source": [
    "# USER DEFINED \n",
    "channel_key = [\"Red\", \"IR\", \"Violet\"]\n",
    "baudrate = 115200\n",
    "commport = '/dev/ttyACM0'"
   ]
  },
  {
   "cell_type": "code",
   "execution_count": 4,
   "id": "294d4287",
   "metadata": {},
   "outputs": [
    {
     "data": {
      "application/vnd.jupyter.widget-view+json": {
       "model_id": "c32a788391f14d7f80a43c4c81b7bc47",
       "version_major": 2,
       "version_minor": 0
      },
      "text/plain": [
       "RFBOutputContext()"
      ]
     },
     "metadata": {},
     "output_type": "display_data"
    },
    {
     "name": "stderr",
     "output_type": "stream",
     "text": [
      "/home/aju/Desktop/fastplotlib/fastplotlib/graphics/_features/_base.py:34: UserWarning: converting float64 array to float32\n",
      "  warn(f\"converting {array.dtype} array to float32\")\n"
     ]
    }
   ],
   "source": [
    "# Instantiate Central Manager class\n",
    "sm = SensorManager(channel_key=channel_key, commport=commport, baudrate=baudrate, window_size = 1)"
   ]
  },
  {
   "cell_type": "code",
   "execution_count": 5,
   "id": "d3646660",
   "metadata": {},
   "outputs": [],
   "source": [
    "# Create 'update process' to handle acquired data\n",
    "p1 = sm.update_process(save_data=True)\n",
    "plot = sm.args_dict[\"plot\"]"
   ]
  },
  {
   "cell_type": "code",
   "execution_count": 6,
   "id": "712984d3-a202-418f-aa08-82a7aee648c0",
   "metadata": {},
   "outputs": [],
   "source": [
    "# Start update process, start plotting process\n",
    "p1.start()\n",
    "plot.add_animations(partial(pm.obtain_grid_plot_data, sm.args_dict, ))"
   ]
  },
  {
   "cell_type": "code",
   "execution_count": 7,
   "id": "463c92ef-948a-4ec3-bcd9-65e1e5adcd82",
   "metadata": {},
   "outputs": [
    {
     "data": {
      "application/vnd.jupyter.widget-view+json": {
       "model_id": "2aebd7fee40c47228f1a1bfcf47fb869",
       "version_major": 2,
       "version_minor": 0
      },
      "text/plain": [
       "VBox(children=(JupyterWgpuCanvas(), HBox(children=(Button(icon='expand-arrows-alt', layout=Layout(width='auto'…"
      ]
     },
     "execution_count": 7,
     "metadata": {},
     "output_type": "execute_result"
    }
   ],
   "source": [
    "plot.show()"
   ]
  },
  {
   "cell_type": "code",
   "execution_count": null,
   "id": "2d3d2497-2f5f-4115-82a5-1538c4539816",
   "metadata": {},
   "outputs": [],
   "source": [
    "sm.update_params({\"window_size\":100})"
   ]
  },
  {
   "cell_type": "code",
   "execution_count": null,
   "id": "6999737a",
   "metadata": {},
   "outputs": [],
   "source": [
    "# To load channel data\n",
    "red = strg_manager._load_channel(\"Red\")\n",
    "red"
   ]
  },
  {
   "cell_type": "code",
   "execution_count": null,
   "id": "933b3ed6-4d34-4e84-9dda-867780d6c4b4",
   "metadata": {},
   "outputs": [],
   "source": []
  }
 ],
 "metadata": {
  "kernelspec": {
   "display_name": "MABOS",
   "language": "python",
   "name": "mabos"
  },
  "language_info": {
   "codemirror_mode": {
    "name": "ipython",
    "version": 3
   },
   "file_extension": ".py",
   "mimetype": "text/x-python",
   "name": "python",
   "nbconvert_exporter": "python",
   "pygments_lexer": "ipython3",
   "version": "3.11.3"
  }
 },
 "nbformat": 4,
 "nbformat_minor": 5
}
