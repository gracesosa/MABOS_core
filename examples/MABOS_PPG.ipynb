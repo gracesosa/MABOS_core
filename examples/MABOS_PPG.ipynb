{
 "cells": [
  {
   "cell_type": "code",
   "execution_count": 24,
   "id": "4866afbb",
   "metadata": {},
   "outputs": [],
   "source": [
    "from MABOS_core import SensorManager\n",
    "from MABOS_core import plot_manager as pm\n",
    "from MABOS_core import strg_manager\n",
    "from MABOS_core import ser_manager\n",
    "from functools import partial"
   ]
  },
  {
   "cell_type": "code",
   "execution_count": 25,
   "id": "1a1340c0-312f-4edf-9061-c8f773edac21",
   "metadata": {},
   "outputs": [
    {
     "data": {
      "text/plain": [
       "[]"
      ]
     },
     "execution_count": 25,
     "metadata": {},
     "output_type": "execute_result"
    }
   ],
   "source": [
    "# Find available serial ports\n",
    "ser_manager.find_serial()"
   ]
  },
  {
   "cell_type": "code",
   "execution_count": 26,
   "id": "b99d60b5-a772-41d6-a086-cc9b8ade01ab",
   "metadata": {},
   "outputs": [],
   "source": [
    "# USER DEFINED \n",
    "channel_key = [\"Red\", \"IR\", \"Violet\"]\n",
    "num_points = 1000\n",
    "baudrate = 115200\n",
    "commport = '/dev/ttyACM0'"
   ]
  },
  {
   "cell_type": "code",
   "execution_count": 28,
   "id": "294d4287",
   "metadata": {},
   "outputs": [
    {
     "ename": "ValueError",
     "evalue": "cannot find context for 'fork'",
     "output_type": "error",
     "traceback": [
      "\u001b[1;31m---------------------------------------------------------------------------\u001b[0m",
      "\u001b[1;31mValueError\u001b[0m                                Traceback (most recent call last)",
      "\u001b[1;32mc:\\Users\\grace\\pygfx\\MABOS_core\\examples\\MABOS_PPG.ipynb Cell 4\u001b[0m line \u001b[0;36m2\n\u001b[0;32m      <a href='vscode-notebook-cell:/c%3A/Users/grace/pygfx/MABOS_core/examples/MABOS_PPG.ipynb#W3sZmlsZQ%3D%3D?line=0'>1</a>\u001b[0m \u001b[39m# Instantiate Central Manager class\u001b[39;00m\n\u001b[1;32m----> <a href='vscode-notebook-cell:/c%3A/Users/grace/pygfx/MABOS_core/examples/MABOS_PPG.ipynb#W3sZmlsZQ%3D%3D?line=1'>2</a>\u001b[0m sm \u001b[39m=\u001b[39m SensorManager(channel_key\u001b[39m=\u001b[39;49mchannel_key, commport\u001b[39m=\u001b[39;49mcommport, num_points\u001b[39m=\u001b[39;49mnum_points, window_size \u001b[39m=\u001b[39;49m \u001b[39m1\u001b[39;49m, baudrate\u001b[39m=\u001b[39;49mbaudrate)\n",
      "File \u001b[1;32m~\\pygfx\\MABOS_core\\MABOS_core\\sensor_manager.py:24\u001b[0m, in \u001b[0;36mSensorManager.__init__\u001b[1;34m(self, channel_key, commport, num_points, window_size, baudrate)\u001b[0m\n\u001b[0;32m     14\u001b[0m \u001b[39m\u001b[39m\u001b[39m\"\"\" Initialize SensorManager Class\u001b[39;00m\n\u001b[0;32m     15\u001b[0m \u001b[39mInitializes serial port, shared memory object, and kwarg dictionary (args_dict)\u001b[39;00m\n\u001b[0;32m     16\u001b[0m \u001b[39m:param channel_key: list of channel names\u001b[39;00m\n\u001b[1;32m   (...)\u001b[0m\n\u001b[0;32m     20\u001b[0m \u001b[39m:param baudrate: target baudrate\u001b[39;00m\n\u001b[0;32m     21\u001b[0m \u001b[39m\"\"\"\u001b[39;00m\n\u001b[0;32m     23\u001b[0m \u001b[39m# Ensures all resources available to parent process are identical to child process. Needed for windows & macOS\u001b[39;00m\n\u001b[1;32m---> 24\u001b[0m multiprocessing\u001b[39m.\u001b[39;49mset_start_method(\u001b[39m'\u001b[39;49m\u001b[39mfork\u001b[39;49m\u001b[39m'\u001b[39;49m)\n\u001b[0;32m     26\u001b[0m mutex \u001b[39m=\u001b[39m create_mutex()\n\u001b[0;32m     28\u001b[0m \u001b[39mself\u001b[39m\u001b[39m.\u001b[39mser \u001b[39m=\u001b[39m setup_serial(commport, baudrate)\n",
      "File \u001b[1;32mc:\\Users\\grace\\AppData\\Local\\Programs\\Python\\Python311\\Lib\\multiprocessing\\context.py:251\u001b[0m, in \u001b[0;36mDefaultContext.set_start_method\u001b[1;34m(self, method, force)\u001b[0m\n\u001b[0;32m    249\u001b[0m     \u001b[39mself\u001b[39m\u001b[39m.\u001b[39m_actual_context \u001b[39m=\u001b[39m \u001b[39mNone\u001b[39;00m\n\u001b[0;32m    250\u001b[0m     \u001b[39mreturn\u001b[39;00m\n\u001b[1;32m--> 251\u001b[0m \u001b[39mself\u001b[39m\u001b[39m.\u001b[39m_actual_context \u001b[39m=\u001b[39m \u001b[39mself\u001b[39;49m\u001b[39m.\u001b[39;49mget_context(method)\n",
      "File \u001b[1;32mc:\\Users\\grace\\AppData\\Local\\Programs\\Python\\Python311\\Lib\\multiprocessing\\context.py:243\u001b[0m, in \u001b[0;36mDefaultContext.get_context\u001b[1;34m(self, method)\u001b[0m\n\u001b[0;32m    241\u001b[0m     \u001b[39mreturn\u001b[39;00m \u001b[39mself\u001b[39m\u001b[39m.\u001b[39m_actual_context\n\u001b[0;32m    242\u001b[0m \u001b[39melse\u001b[39;00m:\n\u001b[1;32m--> 243\u001b[0m     \u001b[39mreturn\u001b[39;00m \u001b[39msuper\u001b[39;49m()\u001b[39m.\u001b[39;49mget_context(method)\n",
      "File \u001b[1;32mc:\\Users\\grace\\AppData\\Local\\Programs\\Python\\Python311\\Lib\\multiprocessing\\context.py:193\u001b[0m, in \u001b[0;36mBaseContext.get_context\u001b[1;34m(self, method)\u001b[0m\n\u001b[0;32m    191\u001b[0m     ctx \u001b[39m=\u001b[39m _concrete_contexts[method]\n\u001b[0;32m    192\u001b[0m \u001b[39mexcept\u001b[39;00m \u001b[39mKeyError\u001b[39;00m:\n\u001b[1;32m--> 193\u001b[0m     \u001b[39mraise\u001b[39;00m \u001b[39mValueError\u001b[39;00m(\u001b[39m'\u001b[39m\u001b[39mcannot find context for \u001b[39m\u001b[39m%r\u001b[39;00m\u001b[39m'\u001b[39m \u001b[39m%\u001b[39m method) \u001b[39mfrom\u001b[39;00m \u001b[39mNone\u001b[39;00m\n\u001b[0;32m    194\u001b[0m ctx\u001b[39m.\u001b[39m_check_available()\n\u001b[0;32m    195\u001b[0m \u001b[39mreturn\u001b[39;00m ctx\n",
      "\u001b[1;31mValueError\u001b[0m: cannot find context for 'fork'"
     ]
    }
   ],
   "source": [
    "# Instantiate Central Manager class\n",
    "sm = SensorManager(channel_key=channel_key, commport=commport, num_points=num_points, window_size = 1, baudrate=baudrate)"
   ]
  },
  {
   "cell_type": "code",
   "execution_count": null,
   "id": "d3646660",
   "metadata": {},
   "outputs": [],
   "source": [
    "# Create 'update process' to handle acquired data\n",
    "p1 = sm.update_process(save_data=True)\n",
    "plot = sm.args_dict[\"plot\"]"
   ]
  },
  {
   "cell_type": "code",
   "execution_count": null,
   "id": "712984d3-a202-418f-aa08-82a7aee648c0",
   "metadata": {},
   "outputs": [
    {
     "ename": "NameError",
     "evalue": "name 'p1' is not defined",
     "output_type": "error",
     "traceback": [
      "\u001b[1;31m---------------------------------------------------------------------------\u001b[0m",
      "\u001b[1;31mNameError\u001b[0m                                 Traceback (most recent call last)",
      "\u001b[1;32mc:\\Users\\grace\\pygfx\\MABOS_core\\examples\\MABOS_PPG.ipynb Cell 6\u001b[0m line \u001b[0;36m2\n\u001b[0;32m      <a href='vscode-notebook-cell:/c%3A/Users/grace/pygfx/MABOS_core/examples/MABOS_PPG.ipynb#W5sZmlsZQ%3D%3D?line=0'>1</a>\u001b[0m \u001b[39m# Start update process, start plotting process\u001b[39;00m\n\u001b[1;32m----> <a href='vscode-notebook-cell:/c%3A/Users/grace/pygfx/MABOS_core/examples/MABOS_PPG.ipynb#W5sZmlsZQ%3D%3D?line=1'>2</a>\u001b[0m p1\u001b[39m.\u001b[39mstart()\n\u001b[0;32m      <a href='vscode-notebook-cell:/c%3A/Users/grace/pygfx/MABOS_core/examples/MABOS_PPG.ipynb#W5sZmlsZQ%3D%3D?line=2'>3</a>\u001b[0m plot\u001b[39m.\u001b[39madd_animations(partial(pm\u001b[39m.\u001b[39mobtain_grid_plot_data, sm\u001b[39m.\u001b[39margs_dict, ))\n",
      "\u001b[1;31mNameError\u001b[0m: name 'p1' is not defined"
     ]
    }
   ],
   "source": [
    "# Start update process, start plotting process\n",
    "p1.start()\n",
    "plot.add_animations(partial(pm.obtain_grid_plot_data, sm.args_dict, ))"
   ]
  },
  {
   "cell_type": "code",
   "execution_count": null,
   "id": "463c92ef-948a-4ec3-bcd9-65e1e5adcd82",
   "metadata": {},
   "outputs": [
    {
     "data": {
      "application/vnd.jupyter.widget-view+json": {
       "model_id": "2aebd7fee40c47228f1a1bfcf47fb869",
       "version_major": 2,
       "version_minor": 0
      },
      "text/plain": [
       "VBox(children=(JupyterWgpuCanvas(), HBox(children=(Button(icon='expand-arrows-alt', layout=Layout(width='auto'…"
      ]
     },
     "execution_count": 7,
     "metadata": {},
     "output_type": "execute_result"
    }
   ],
   "source": [
    "plot.show()"
   ]
  },
  {
   "cell_type": "code",
   "execution_count": null,
   "id": "2d3d2497-2f5f-4115-82a5-1538c4539816",
   "metadata": {},
   "outputs": [],
   "source": [
    "sm.update_params({\"window_size\":100})"
   ]
  },
  {
   "cell_type": "code",
   "execution_count": null,
   "id": "6999737a",
   "metadata": {},
   "outputs": [],
   "source": [
    "# To load channel data\n",
    "red = strg_manager._load_channel(\"Red\")\n",
    "red"
   ]
  },
  {
   "cell_type": "code",
   "execution_count": null,
   "id": "933b3ed6-4d34-4e84-9dda-867780d6c4b4",
   "metadata": {},
   "outputs": [],
   "source": []
  }
 ],
 "metadata": {
  "kernelspec": {
   "display_name": "Python 3",
   "language": "python",
   "name": "python3"
  },
  "language_info": {
   "codemirror_mode": {
    "name": "ipython",
    "version": 3
   },
   "file_extension": ".py",
   "mimetype": "text/x-python",
   "name": "python",
   "nbconvert_exporter": "python",
   "pygments_lexer": "ipython3",
   "version": "3.11.5"
  }
 },
 "nbformat": 4,
 "nbformat_minor": 5
}
